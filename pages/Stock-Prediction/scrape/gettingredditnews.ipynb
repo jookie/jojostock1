{
 "cells": [
  {
   "cell_type": "code",
   "execution_count": null,
   "metadata": {
    "ExecuteTime": {
     "end_time": "2017-12-08T14:30:08.945825Z",
     "start_time": "2017-12-08T14:30:04.019255Z"
    }
   },
   "outputs": [],
   "source": [
    "from bs4 import BeautifulSoup\n",
    "import datetime\n",
    "import pickle\n",
    "import requests\n",
    "import random\n",
    "import numpy as np\n",
    "import pandas as pd"
   ]
  },
  {
   "cell_type": "code",
   "execution_count": null,
   "metadata": {
    "ExecuteTime": {
     "end_time": "2017-12-08T14:30:11.100059Z",
     "start_time": "2017-12-08T14:30:11.096062Z"
    }
   },
   "outputs": [],
   "source": [
    "#parameters\n",
    "#how many days ago should I start from\n",
    "starting_date = -518"
   ]
  },
  {
   "cell_type": "code",
   "execution_count": null,
   "metadata": {
    "ExecuteTime": {
     "end_time": "2017-12-08T14:30:11.869758Z",
     "start_time": "2017-12-08T14:30:11.848399Z"
    }
   },
   "outputs": [],
   "source": [
    "def getNewsForWeek(date):\n",
    "    thedate = date\n",
    "    thedate = date\n",
    "    query = \"https://web.archive.org/web/\" +  str(thedate.year) +  format(thedate.month, '02d') +  format(thedate.day, '02d') + \"/http://www.reddit.com/r/worldnews/\"\n",
    "\n",
    "    response = requests.get(query)\n",
    "    soup = BeautifulSoup(response.text, \"html.parser\")\n",
    "    divs = soup.findAll('p', {'class': 'title'})\n",
    "\n",
    "    data = []\n",
    "\n",
    "    for div in divs:\n",
    "        test = div.findAll(text=True)\n",
    "        test = (max(test, key=len))\n",
    "        data = data + [test]\n",
    "    return data "
   ]
  },
  {
   "cell_type": "code",
   "execution_count": null,
   "metadata": {
    "ExecuteTime": {
     "end_time": "2017-12-08T14:30:16.601119Z",
     "start_time": "2017-12-08T14:30:12.519998Z"
    }
   },
   "outputs": [],
   "source": [
    "empty = pd.DataFrame([])\n",
    "endDate = datetime.date.today()\n",
    "date = endDate\n",
    "date += datetime.timedelta(days=  starting_date)\n",
    "while(date <= endDate):\n",
    "    data = getNewsForWeek(date)\n",
    "    #print(date, len(data))\n",
    "    empty = empty.append(pd.DataFrame({'date': date, \"headlines\": [data]}, index=[0]), ignore_index=True)\n",
    "    date += datetime.timedelta(days=1)\n"
   ]
  },
  {
   "cell_type": "code",
   "execution_count": null,
   "metadata": {
    "ExecuteTime": {
     "end_time": "2017-12-02T21:42:46.072184Z",
     "start_time": "2017-12-02T21:42:46.026473Z"
    }
   },
   "outputs": [],
   "source": [
    "empty"
   ]
  },
  {
   "cell_type": "code",
   "execution_count": null,
   "metadata": {
    "ExecuteTime": {
     "end_time": "2017-12-02T21:49:22.286734Z",
     "start_time": "2017-12-02T21:49:22.283208Z"
    }
   },
   "outputs": [],
   "source": [
    "headlines_df = empty"
   ]
  },
  {
   "cell_type": "code",
   "execution_count": null,
   "metadata": {
    "ExecuteTime": {
     "end_time": "2017-12-02T21:54:50.952343Z",
     "start_time": "2017-12-02T21:54:50.941698Z"
    }
   },
   "outputs": [],
   "source": [
    "headlines_df.head()"
   ]
  },
  {
   "cell_type": "code",
   "execution_count": null,
   "metadata": {
    "ExecuteTime": {
     "end_time": "2017-12-02T21:54:16.936885Z",
     "start_time": "2017-12-02T21:54:16.794811Z"
    }
   },
   "outputs": [],
   "source": [
    "test_df = headlines_df['headlines'].apply(pd.Series)\n",
    "test_df.index = headlines_df['date']\n",
    "test_df.head()"
   ]
  },
  {
   "cell_type": "code",
   "execution_count": null,
   "metadata": {
    "ExecuteTime": {
     "end_time": "2017-12-02T21:55:07.336756Z",
     "start_time": "2017-12-02T21:55:07.263025Z"
    }
   },
   "outputs": [],
   "source": [
    "test_df.to_csv(\"remainingreddit.csv\")"
   ]
  },
  {
   "cell_type": "code",
   "execution_count": null,
   "metadata": {},
   "outputs": [],
   "source": []
  }
 ],
 "metadata": {
  "anaconda-cloud": {},
  "kernelspec": {
   "display_name": "Python [default]",
   "language": "python",
   "name": "python3"
  },
  "language_info": {
   "codemirror_mode": {
    "name": "ipython",
    "version": 3
   },
   "file_extension": ".py",
   "mimetype": "text/x-python",
   "name": "python",
   "nbconvert_exporter": "python",
   "pygments_lexer": "ipython3",
   "version": "3.5.4"
  },
  "toc": {
   "nav_menu": {},
   "number_sections": true,
   "sideBar": true,
   "skip_h1_title": false,
   "toc_cell": false,
   "toc_position": {},
   "toc_section_display": "block",
   "toc_window_display": false
  }
 },
 "nbformat": 4,
 "nbformat_minor": 2
}
