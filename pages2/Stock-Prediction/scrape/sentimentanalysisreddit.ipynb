{
 "cells": [
  {
   "cell_type": "code",
   "execution_count": null,
   "metadata": {
    "ExecuteTime": {
     "end_time": "2017-12-02T22:05:21.743955Z",
     "start_time": "2017-12-02T22:05:21.724201Z"
    }
   },
   "outputs": [],
   "source": [
    "from textblob import TextBlob\n",
    "from nltk.sentiment.vader import SentimentIntensityAnalyzer\n",
    "import unicodedata\n",
    "sid = SentimentIntensityAnalyzer()\n",
    "import pandas as pd\n",
    "import numpy as np\n",
    "import os\n",
    "import re"
   ]
  },
  {
   "cell_type": "code",
   "execution_count": null,
   "metadata": {
    "ExecuteTime": {
     "end_time": "2017-12-02T22:05:22.546817Z",
     "start_time": "2017-12-02T22:05:22.489334Z"
    }
   },
   "outputs": [],
   "source": [
    "df = pd.read_csv(\"remainingreddit.csv\", encoding = 'latin1')\n",
    "df=df.rename(columns = {'Unnamed: 0':'Date'})\n",
    "columns = df.columns.values.tolist()\n",
    "df = df.loc[:,columns]\n",
    "print(df.columns)\n",
    "df.tail()"
   ]
  },
  {
   "cell_type": "code",
   "execution_count": null,
   "metadata": {
    "ExecuteTime": {
     "end_time": "2017-12-02T22:05:30.036583Z",
     "start_time": "2017-12-02T22:05:30.033081Z"
    }
   },
   "outputs": [],
   "source": [
    "headlines = columns\n",
    "headlines.remove('Date')"
   ]
  },
  {
   "cell_type": "code",
   "execution_count": null,
   "metadata": {
    "ExecuteTime": {
     "end_time": "2017-12-02T22:05:31.414487Z",
     "start_time": "2017-12-02T22:05:31.390704Z"
    }
   },
   "outputs": [],
   "source": [
    "reddit_df = pd.DataFrame(np.nan, index=df['Date'], columns=['neg', 'neu', 'pos', 'polarity', 'subjectivity'])\n",
    "reddit_df"
   ]
  },
  {
   "cell_type": "code",
   "execution_count": null,
   "metadata": {
    "ExecuteTime": {
     "end_time": "2017-12-02T22:05:32.780523Z",
     "start_time": "2017-12-02T22:05:32.777119Z"
    }
   },
   "outputs": [],
   "source": [
    "sentiment_df = df "
   ]
  },
  {
   "cell_type": "code",
   "execution_count": null,
   "metadata": {
    "ExecuteTime": {
     "end_time": "2017-12-02T22:05:56.984006Z",
     "start_time": "2017-12-02T22:05:33.401382Z"
    }
   },
   "outputs": [],
   "source": [
    "for ind, row in sentiment_df.iterrows():\n",
    "    pos = []\n",
    "    neg = []\n",
    "    neu = []\n",
    "    polarity = []\n",
    "    subjectivity = []\n",
    "    for headline in headlines:\n",
    "        test = sentiment_df.iloc[ind][headline]\n",
    "        print(test)\n",
    "        print(type(test) == type(\"\"))\n",
    "        if (type(test) == type(\"\")):\n",
    "            test = re.sub(r'([^\\s\\w]|_)+', '',  sentiment_df.iloc[ind][headline]).strip()[1:]\n",
    "            sentiment = TextBlob(test).sentiment.polarity\n",
    "            sentiment1 = TextBlob(test).sentiment.subjectivity\n",
    "            ss = sid.polarity_scores(test)\n",
    "            print(ss)\n",
    "            pos = pos + [ss['pos']]\n",
    "            neg = neg + [ss['neg']]\n",
    "            neu = neg + [ss['neu']]\n",
    "            polarity = polarity + [sentiment]\n",
    "            subjectivity = subjectivity + [sentiment1]\n",
    "                    \n",
    "    reddit_df.set_value(row[\"Date\"], 'neg', np.mean(neg))\n",
    "    reddit_df.set_value(row[\"Date\"], 'pos', np.mean(pos))\n",
    "    reddit_df.set_value(row[\"Date\"], 'neu', np.mean(neu))\n",
    "    reddit_df.set_value(row[\"Date\"], 'polarity', np.mean(polarity))\n",
    "    reddit_df.set_value(row[\"Date\"], 'subjectivity', np.mean(subjectivity))\n",
    "\n",
    "\n",
    "    "
   ]
  },
  {
   "cell_type": "code",
   "execution_count": null,
   "metadata": {
    "ExecuteTime": {
     "end_time": "2017-12-02T22:06:01.724445Z",
     "start_time": "2017-12-02T22:06:01.720880Z"
    }
   },
   "outputs": [],
   "source": [
    "test_df = reddit_df"
   ]
  },
  {
   "cell_type": "code",
   "execution_count": null,
   "metadata": {
    "ExecuteTime": {
     "end_time": "2017-12-02T22:06:02.165751Z",
     "start_time": "2017-12-02T22:06:02.078223Z"
    }
   },
   "outputs": [],
   "source": [
    "idx = pd.date_range('2016-07-02', '2017-11-23')\n",
    "test_df.index = pd.DatetimeIndex(test_df.index)\n",
    "test_df = test_df.reindex(idx, fill_value=np.nan)\n",
    "test_df.head()\n"
   ]
  },
  {
   "cell_type": "code",
   "execution_count": null,
   "metadata": {
    "ExecuteTime": {
     "end_time": "2017-12-02T22:06:04.915530Z",
     "start_time": "2017-12-02T22:06:04.890992Z"
    }
   },
   "outputs": [],
   "source": [
    "test_df"
   ]
  },
  {
   "cell_type": "code",
   "execution_count": null,
   "metadata": {
    "ExecuteTime": {
     "end_time": "2017-12-02T22:06:12.575947Z",
     "start_time": "2017-12-02T22:06:12.560411Z"
    }
   },
   "outputs": [],
   "source": [
    "test_df = test_df.reset_index()\n",
    "columns = test_df.columns.values.tolist()\n",
    "test_df = test_df.loc[:,columns]\n",
    "test_df.head()"
   ]
  },
  {
   "cell_type": "code",
   "execution_count": null,
   "metadata": {
    "ExecuteTime": {
     "end_time": "2017-12-02T22:06:14.974528Z",
     "start_time": "2017-12-02T22:06:14.966425Z"
    }
   },
   "outputs": [],
   "source": [
    "analysis_df = test_df.groupby(np.arange(len(test_df))//7).mean()"
   ]
  },
  {
   "cell_type": "code",
   "execution_count": null,
   "metadata": {
    "ExecuteTime": {
     "end_time": "2017-12-02T22:06:21.004415Z",
     "start_time": "2017-12-02T22:06:20.999242Z"
    }
   },
   "outputs": [],
   "source": [
    "analysis_df.to_csv(\"reddit_five_sentimentslastyear.csv\")"
   ]
  },
  {
   "cell_type": "code",
   "execution_count": null,
   "metadata": {
    "ExecuteTime": {
     "end_time": "2017-12-02T22:06:22.708200Z",
     "start_time": "2017-12-02T22:06:22.695703Z"
    }
   },
   "outputs": [],
   "source": [
    "reddit_df.tail()"
   ]
  },
  {
   "cell_type": "code",
   "execution_count": null,
   "metadata": {},
   "outputs": [],
   "source": []
  }
 ],
 "metadata": {
  "anaconda-cloud": {},
  "kernelspec": {
   "display_name": "Python [default]",
   "language": "python",
   "name": "python3"
  },
  "language_info": {
   "codemirror_mode": {
    "name": "ipython",
    "version": 3
   },
   "file_extension": ".py",
   "mimetype": "text/x-python",
   "name": "python",
   "nbconvert_exporter": "python",
   "pygments_lexer": "ipython3",
   "version": "3.5.4"
  },
  "toc": {
   "nav_menu": {},
   "number_sections": true,
   "sideBar": true,
   "skip_h1_title": false,
   "toc_cell": false,
   "toc_position": {},
   "toc_section_display": "block",
   "toc_window_display": false
  }
 },
 "nbformat": 4,
 "nbformat_minor": 2
}
