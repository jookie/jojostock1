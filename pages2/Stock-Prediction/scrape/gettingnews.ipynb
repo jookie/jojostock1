{
 "cells": [
  {
   "cell_type": "code",
   "execution_count": null,
   "metadata": {
    "ExecuteTime": {
     "end_time": "2017-12-08T14:26:36.543074Z",
     "start_time": "2017-12-08T14:26:34.778628Z"
    }
   },
   "outputs": [],
   "source": [
    "from bs4 import BeautifulSoup\n",
    "import datetime\n",
    "import pickle\n",
    "import requests\n",
    "import random"
   ]
  },
  {
   "cell_type": "code",
   "execution_count": null,
   "metadata": {
    "ExecuteTime": {
     "end_time": "2017-12-08T14:26:37.179647Z",
     "start_time": "2017-12-08T14:26:37.169809Z"
    }
   },
   "outputs": [],
   "source": [
    "#PARAMETERS\n",
    "#stock\n",
    "FNAME = \"snp500_formatted.txt\"\n",
    "stocks = []\n",
    "with open(FNAME) as f:\n",
    "    stocks = f.readlines()\n",
    "for i in range(len(stocks)):\n",
    "    stocks[i] = stocks[i].rstrip('\\n')\n",
    "#stocks = [\"MSFT\", \"GOOGL\", \"AAPL\", \"TSLA\", \"WDC\", \"RAD\", \"BAC\", \"F\", \"GE\", \"T\", \"M\", \"WFC\", \"JCP\", \"KR\", \"GM\", \"KO\", \"DIS\", \"SWN\", \"PFE\", \"WMT\" ]\n",
    "stocks = ['AAPL', 'FB', 'GOOGL', 'TSLA', 'AMZN', 'TSLA', 'BKRB', 'JNJ']"
   ]
  },
  {
   "cell_type": "code",
   "execution_count": null,
   "metadata": {
    "ExecuteTime": {
     "end_time": "2017-12-08T14:26:38.200954Z",
     "start_time": "2017-12-08T14:26:38.196734Z"
    }
   },
   "outputs": [],
   "source": [
    "#time period\n",
    "time_period = 14\n",
    "\n",
    "#how many days ago should I start at\n",
    "starting_date = -365 * 7 + -337 "
   ]
  },
  {
   "cell_type": "code",
   "execution_count": null,
   "metadata": {
    "ExecuteTime": {
     "end_time": "2017-12-08T14:26:39.558412Z",
     "start_time": "2017-12-08T14:26:39.403675Z"
    }
   },
   "outputs": [],
   "source": [
    "def getNewsForWeek(date):\n",
    "    thedate = date\n",
    "    print(\"important:\" + thedate.strftime('%Y-%m-%d'))\n",
    "    file = open('../data/news/' + thedate.strftime('%Y-%m-%d') + '.csv', 'w')\n",
    "    file.write(\"Ticker,Headlines\")\n",
    "    file.write('\\n')\n",
    "\n",
    "    print(\"FILE:\" + 'data/news/' + thedate.strftime('%Y-%m-%d') + '.csv', 'w')\n",
    "    for i in range(len(stocks)):\n",
    "        allnews = \"\"\n",
    "        for j in range(time_period):\n",
    "            thedate = date\n",
    "            thedate += datetime.timedelta(days=j)\n",
    "            #print('Getting news for ' + thedate.strftime('%Y-%m-%d'))\n",
    "            query = 'http://www.reuters.com/finance/stocks/company-news/' + stocks[i] + '.O' + '?date=' + format(thedate.month, '02d') + format(thedate.day, '02d') + str(thedate.year)\n",
    "            #print(query)\n",
    "            #print('Getting news for ' + stocks[i])\n",
    "\n",
    "            response = requests.get(query)\n",
    "            soup = BeautifulSoup(response.text, \"html.parser\")\n",
    "            divs = soup.findAll('div', {'class': 'feature'})\n",
    "            divs2 = soup.findAll('div', {'class': 'topStory'})\n",
    "            #print('Found ' + str(len(divs) + len(divs2)) + ' articles.')\n",
    "\n",
    "\n",
    "            if(len(divs) == 0 and len(divs2) == 0):\n",
    "                continue\n",
    "            #data = u'' \n",
    "            data = []\n",
    "\n",
    "\n",
    "            for div in divs:\n",
    "                test = div.findAll(text=True)[0]\n",
    "                data = data + [test]\n",
    "                #data = data.join(div.findAll(text=True))\n",
    "            #news = data.split('\\n')[0]\n",
    "            #news = news.strip().replace(',','')\n",
    "            news = data\n",
    "\n",
    "            data2 = u''\n",
    "\n",
    "            for div in divs2:\n",
    "                data2 = data2.join(div.findAll(text=True))\n",
    "\n",
    "            news2 = data2\n",
    "            news2 = news2.replace('\\n', \"--\")\n",
    "            test = news2.split(\"--\")\n",
    "            for j in range(len(test)):\n",
    "                if test[j] != \"\" and test[j] != \"Continue Reading\" :\n",
    "                    news2 = test[j]\n",
    "                    break\n",
    "\n",
    "            news = news + [news2]\n",
    "            for k in range(len(news)):\n",
    "                news[k] = news[k].replace(\",\", \"\")\n",
    "            news = \"|\".join(news) \n",
    "            #print(news)\n",
    "            #news = data.strip().split('\\n')\n",
    "            #news = data.strip().replace('\\n',' ').split(' ')\n",
    "            #news = \" \".join(news)\n",
    "            allnews = allnews + \"|\" + news\n",
    "    \n",
    "\n",
    "        #print(allnews)\n",
    "        file.write(stocks[i] +   ',' + allnews[1:])\n",
    "        file.write('\\n')\n",
    "        thedate += datetime.timedelta(days=-time_period)\n",
    "    file.close()"
   ]
  },
  {
   "cell_type": "code",
   "execution_count": null,
   "metadata": {
    "ExecuteTime": {
     "end_time": "2017-12-08T14:26:40.483735Z",
     "start_time": "2017-12-08T14:26:40.476251Z"
    }
   },
   "outputs": [],
   "source": [
    "def getNews():\n",
    "    endDate = datetime.date.today()\n",
    "    date = endDate\n",
    "    date += datetime.timedelta(days=starting_date)\n",
    "    print(date)\n",
    "    while(date <= endDate):\n",
    "        getNewsForWeek(date)\n",
    "        date += datetime.timedelta(days=time_period)"
   ]
  },
  {
   "cell_type": "code",
   "execution_count": null,
   "metadata": {
    "ExecuteTime": {
     "end_time": "2017-12-08T14:28:02.321584Z",
     "start_time": "2017-12-08T14:26:41.780459Z"
    }
   },
   "outputs": [],
   "source": [
    "getNews()"
   ]
  },
  {
   "cell_type": "code",
   "execution_count": null,
   "metadata": {},
   "outputs": [],
   "source": []
  },
  {
   "cell_type": "code",
   "execution_count": null,
   "metadata": {},
   "outputs": [],
   "source": []
  }
 ],
 "metadata": {
  "anaconda-cloud": {},
  "kernelspec": {
   "display_name": "Python [default]",
   "language": "python",
   "name": "python3"
  },
  "language_info": {
   "codemirror_mode": {
    "name": "ipython",
    "version": 3
   },
   "file_extension": ".py",
   "mimetype": "text/x-python",
   "name": "python",
   "nbconvert_exporter": "python",
   "pygments_lexer": "ipython3",
   "version": "3.5.4"
  },
  "toc": {
   "nav_menu": {},
   "number_sections": true,
   "sideBar": true,
   "skip_h1_title": false,
   "toc_cell": false,
   "toc_position": {},
   "toc_section_display": "block",
   "toc_window_display": false
  }
 },
 "nbformat": 4,
 "nbformat_minor": 2
}
