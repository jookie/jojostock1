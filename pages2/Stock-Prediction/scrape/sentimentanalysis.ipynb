{
 "cells": [
  {
   "cell_type": "code",
   "execution_count": null,
   "metadata": {
    "ExecuteTime": {
     "end_time": "2017-12-02T19:47:27.886951Z",
     "start_time": "2017-12-02T19:47:27.828011Z"
    }
   },
   "outputs": [],
   "source": [
    "from textblob import TextBlob\n",
    "from nltk.sentiment.vader import SentimentIntensityAnalyzer\n",
    "import unicodedata\n",
    "sid = SentimentIntensityAnalyzer()\n",
    "import pandas as pd\n",
    "import numpy as np\n",
    "import os\n"
   ]
  },
  {
   "cell_type": "code",
   "execution_count": null,
   "metadata": {
    "ExecuteTime": {
     "end_time": "2017-12-02T19:48:11.016569Z",
     "start_time": "2017-12-02T19:47:59.886654Z"
    }
   },
   "outputs": [],
   "source": [
    "path = \"../data/news/\"\n",
    "files = [file_path for file_path in os.listdir(path) if file_path.endswith('.csv')]\n",
    "finalpath = \"../data/sentiments/\"\n",
    "for fname in files:\n",
    "    print(fname)\n",
    "    df = pd.read_csv(path + fname)\n",
    "    df['polarity'] = 0\n",
    "    df['max_polarity'] = 0\n",
    "    df['subjectivity'] = 0\n",
    "    df['pos'] = 0\n",
    "    df['neu'] = 0\n",
    "    df['neg'] = 0\n",
    "    for ind, row in df.iterrows():\n",
    "        if type(row['Headlines']) != str :\n",
    "            df.loc[ind, 'polarity'] = 0\n",
    "            df.loc[ind, 'subjectivity'] = 0\n",
    "            df.loc[ind, 'pos'] = 0\n",
    "            df.loc[ind, 'neg'] = 0\n",
    "            df.loc[ind, 'neu'] = 0\n",
    "        else:\n",
    "            headlines = row['Headlines']\n",
    "            headlines = headlines.split(\"|\")\n",
    "            polarity = [ TextBlob(headline).sentiment.polarity for headline in headlines]\n",
    "            mostExtreme = -99999\n",
    "            for  val in polarity:\n",
    "                if abs(val) > mostExtreme:\n",
    "                    mostExtreme = val \n",
    "            sslist = [sid.polarity_scores(headline) for headline in headlines]\n",
    "            subjectivity = [ TextBlob(headline).sentiment.subjectivity for headline in headlines]\n",
    "            positives = [ss['pos'] for ss in sslist]\n",
    "            negatives = [ss['neg'] for ss in sslist]\n",
    "            neutrals = [ss['neu'] for ss in sslist]\n",
    "            df.loc[ind, 'polarity'] = np.mean(polarity)\n",
    "            df.loc[ind, 'subjectivity'] = np.mean(subjectivity)\n",
    "            df.loc[ind, 'max_polarity'] = mostExtreme\n",
    "            df.loc[ind, 'pos'] = np.mean(positives)\n",
    "            df.loc[ind, 'neu'] = np.mean(neutrals)\n",
    "            df.loc[ind, 'neg'] = np.mean(negatives)\n",
    "\n",
    "\n",
    "            print(np.mean(polarity), np.mean(subjectivity), mostExtreme, np.mean(positives), np.mean(neutrals), np.mean(negatives))\n",
    "    df.to_csv(finalpath+fname)\n",
    "    "
   ]
  },
  {
   "cell_type": "code",
   "execution_count": null,
   "metadata": {
    "ExecuteTime": {
     "end_time": "2017-12-02T19:50:35.202211Z",
     "start_time": "2017-12-02T19:50:27.886323Z"
    }
   },
   "outputs": [],
   "source": [
    "finalpath = \"../data/sentiments/\"\n",
    "stockpath = \"../data/stock_sentiment\"\n",
    "files = [file_path for file_path in os.listdir(finalpath) if file_path.endswith('.csv')]\n",
    "file_names = [file.split('.')[0] for file in files]\n",
    "stocks = [\"MSFT\", \"GOOGL\", \"AAPL\", \"TSLA\", \"WDC\", \"RAD\", \"BAC\", \"F\", \"GE\", \"T\", \"M\", \"WFC\", \"JCP\", \"KR\", \"GM\", \"KO\", \"DIS\", \"SWN\", \"PFE\", \"WMT\" ]\n",
    "stocks = [\"AAPL\", \"MSFT\", \"GOOGL\", \"TSLA\" ]\n",
    "stocks = ['AAPL', 'FB', 'GOOGL', 'TSLA', 'AMZN', 'TSLA', 'BKRB', 'JNJ']\n",
    "\n",
    "sentiments = ['polarity', 'subjectivity', 'max_polarity', 'pos', 'neg', 'neu']\n",
    "for stock in stocks:\n",
    "    df = pd.DataFrame(index = file_names, columns=sentiments)\n",
    "    #print(df.head())\n",
    "    \n",
    "    for ind,fname in enumerate(files):\n",
    "        date = fname.split('.')[0]\n",
    "        stock_df = pd.read_csv(finalpath + fname)\n",
    "        if (len(df) != 0):\n",
    "            if len((stock_df[stock_df['Ticker'] == stock][sentiments]).values) != 0:\n",
    "                df.loc[date, :] = ((stock_df[stock_df['Ticker'] == stock][sentiments]).values[0])\n",
    "    df.to_csv(stockpath + '/' + stock + '.csv')\n",
    "\n"
   ]
  },
  {
   "cell_type": "code",
   "execution_count": null,
   "metadata": {
    "ExecuteTime": {
     "end_time": "2017-12-02T20:04:43.646294Z",
     "start_time": "2017-12-02T20:04:43.639005Z"
    }
   },
   "outputs": [],
   "source": [
    "finalstocks = ['AAPL', \"AMZN\", \"FB\", \"GOOGL\", \"TSLA\"]\n",
    "paths = [stockpath + '/' + stock + \".csv\" for stock in finalstocks]\n",
    "newpath = [stockpath + '/' + stock + \"interpolate\" +\".csv\" for stock in finalstocks]\n",
    "paths"
   ]
  },
  {
   "cell_type": "code",
   "execution_count": null,
   "metadata": {
    "ExecuteTime": {
     "end_time": "2017-12-02T20:05:11.119906Z",
     "start_time": "2017-12-02T20:05:11.067278Z"
    }
   },
   "outputs": [],
   "source": [
    "for ind,path in enumerate(paths):\n",
    "    df = pd.read_csv(path)\n",
    "    df = df.replace(0, np.nan)\n",
    "    df = df.interpolate()\n",
    "    df.to_csv(newpath[ind])\n",
    "    "
   ]
  },
  {
   "cell_type": "code",
   "execution_count": null,
   "metadata": {},
   "outputs": [],
   "source": []
  }
 ],
 "metadata": {
  "anaconda-cloud": {},
  "kernelspec": {
   "display_name": "Python [default]",
   "language": "python",
   "name": "python3"
  },
  "language_info": {
   "codemirror_mode": {
    "name": "ipython",
    "version": 3
   },
   "file_extension": ".py",
   "mimetype": "text/x-python",
   "name": "python",
   "nbconvert_exporter": "python",
   "pygments_lexer": "ipython3",
   "version": "3.5.4"
  },
  "toc": {
   "nav_menu": {},
   "number_sections": true,
   "sideBar": true,
   "skip_h1_title": false,
   "toc_cell": false,
   "toc_position": {},
   "toc_section_display": "block",
   "toc_window_display": false
  }
 },
 "nbformat": 4,
 "nbformat_minor": 2
}
